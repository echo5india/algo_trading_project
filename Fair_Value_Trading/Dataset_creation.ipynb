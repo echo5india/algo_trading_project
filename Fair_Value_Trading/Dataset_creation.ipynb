{
 "cells": [
  {
   "cell_type": "markdown",
   "metadata": {},
   "source": [
    "## Creating Data Sets to Test"
   ]
  },
  {
   "cell_type": "code",
   "execution_count": 2,
   "metadata": {},
   "outputs": [],
   "source": [
    "import pandas as pd\n",
    "from simtools import *"
   ]
  },
  {
   "cell_type": "code",
   "execution_count": 6,
   "metadata": {},
   "outputs": [
    {
     "name": "stdout",
     "output_type": "stream",
     "text": [
      "2019-12-05 14:53:00:665392: load quotes\n",
      "2019-12-05 14:53:01:865703: load complete\n",
      "2019-12-05 14:53:01:865703: indexing quotes\n",
      "2019-12-05 14:53:05:332713: index quotes done\n",
      "2019-12-05 14:53:05:366692: load trades\n",
      "2019-12-05 14:53:05:435673: load complete\n",
      "2019-12-05 14:53:05:435673: indexing trades\n",
      "2019-12-05 14:53:05:659524: index trades done\n"
     ]
    }
   ],
   "source": [
    "# Trade and quote files\n",
    "quote_file = 'ABBV_quotes_march.zip'\n",
    "trade_file = 'ABBV_trades_march.zip'\n",
    "\n",
    "# load quotes and trades\n",
    "quotes = loadquotefile( quote_file )\n",
    "trades = loadtradefile( trade_file )"
   ]
  },
  {
   "cell_type": "code",
   "execution_count": 7,
   "metadata": {},
   "outputs": [
    {
     "name": "stdout",
     "output_type": "stream",
     "text": [
      "2019-12-05 14:53:06:913917: start merge\n",
      "2019-12-05 14:53:07:492702: end merge\n"
     ]
    }
   ],
   "source": [
    "TAQ = makeTAQfile(trades,quotes);"
   ]
  },
  {
   "cell_type": "markdown",
   "metadata": {},
   "source": [
    "## Spreads"
   ]
  },
  {
   "cell_type": "code",
   "execution_count": 8,
   "metadata": {},
   "outputs": [],
   "source": [
    "TAQ.to_pickle('ABBV-TAQ-mar.zip')"
   ]
  },
  {
   "cell_type": "code",
   "execution_count": null,
   "metadata": {},
   "outputs": [],
   "source": []
  }
 ],
 "metadata": {
  "kernelspec": {
   "display_name": "Python 3",
   "language": "python",
   "name": "python3"
  },
  "language_info": {
   "codemirror_mode": {
    "name": "ipython",
    "version": 3
   },
   "file_extension": ".py",
   "mimetype": "text/x-python",
   "name": "python",
   "nbconvert_exporter": "python",
   "pygments_lexer": "ipython3",
   "version": "3.6.6"
  }
 },
 "nbformat": 4,
 "nbformat_minor": 4
}
